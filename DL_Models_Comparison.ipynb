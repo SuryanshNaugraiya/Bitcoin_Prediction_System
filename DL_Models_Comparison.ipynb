{
  "nbformat": 4,
  "nbformat_minor": 0,
  "metadata": {
    "colab": {
      "name": "DL_Models_Comparison.ipynb",
      "provenance": [],
      "authorship_tag": "ABX9TyNtqJ6470DMr9QBfxhaJ5Di",
      "include_colab_link": true
    },
    "kernelspec": {
      "name": "python3",
      "display_name": "Python 3"
    }
  },
  "cells": [
    {
      "cell_type": "markdown",
      "metadata": {
        "id": "view-in-github",
        "colab_type": "text"
      },
      "source": [
        "<a href=\"https://colab.research.google.com/github/SuryanshNaugraiya/Bitcoin_Prediction_System/blob/master/DL_Models_Comparison.ipynb\" target=\"_parent\"><img src=\"https://colab.research.google.com/assets/colab-badge.svg\" alt=\"Open In Colab\"/></a>"
      ]
    },
    {
      "cell_type": "code",
      "metadata": {
        "id": "BUXWdawHDhIm",
        "colab_type": "code",
        "colab": {
          "resources": {
            "http://localhost:8080/nbextensions/google.colab/files.js": {
              "data": "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",
              "ok": true,
              "headers": [
                [
                  "content-type",
                  "application/javascript"
                ]
              ],
              "status": 200,
              "status_text": ""
            }
          },
          "base_uri": "https://localhost:8080/",
          "height": 90
        },
        "outputId": "f634c29d-ee2c-421b-b08d-a4f1ecae99d5"
      },
      "source": [
        "from google.colab import files\n",
        "\n",
        "uploaded = files.upload()\n",
        "\n",
        "for fn in uploaded.keys():\n",
        "  print('User uploaded file \"{name}\" with length {length} bytes'.format(name=fn, length=len(uploaded[fn])))"
      ],
      "execution_count": null,
      "outputs": [
        {
          "output_type": "display_data",
          "data": {
            "text/html": [
              "\n",
              "     <input type=\"file\" id=\"files-91c97dcf-3efe-4de3-bf06-e68a52bd40d6\" name=\"files[]\" multiple disabled\n",
              "        style=\"border:none\" />\n",
              "     <output id=\"result-91c97dcf-3efe-4de3-bf06-e68a52bd40d6\">\n",
              "      Upload widget is only available when the cell has been executed in the\n",
              "      current browser session. Please rerun this cell to enable.\n",
              "      </output>\n",
              "      <script src=\"/nbextensions/google.colab/files.js\"></script> "
            ],
            "text/plain": [
              "<IPython.core.display.HTML object>"
            ]
          },
          "metadata": {
            "tags": []
          }
        },
        {
          "output_type": "stream",
          "text": [
            "Saving bitcoin_usd.csv to bitcoin_usd.csv\n",
            "User uploaded file \"bitcoin_usd.csv\" with length 101440 bytes\n"
          ],
          "name": "stdout"
        }
      ]
    },
    {
      "cell_type": "code",
      "metadata": {
        "id": "-XxqkeqNEI0D",
        "colab_type": "code",
        "colab": {}
      },
      "source": [
        "import numpy as np\n",
        "import pandas as pd\n",
        "import matplotlib.pyplot as plt\n",
        "\n",
        "df = pd.read_csv('bitcoin_usd.csv')"
      ],
      "execution_count": null,
      "outputs": []
    },
    {
      "cell_type": "code",
      "metadata": {
        "id": "7xOlBxPtEY69",
        "colab_type": "code",
        "colab": {
          "base_uri": "https://localhost:8080/",
          "height": 402
        },
        "outputId": "d491d179-d0ae-4a8d-b30d-0c7916a49e67"
      },
      "source": [
        "df"
      ],
      "execution_count": null,
      "outputs": [
        {
          "output_type": "execute_result",
          "data": {
            "text/html": [
              "<div>\n",
              "<style scoped>\n",
              "    .dataframe tbody tr th:only-of-type {\n",
              "        vertical-align: middle;\n",
              "    }\n",
              "\n",
              "    .dataframe tbody tr th {\n",
              "        vertical-align: top;\n",
              "    }\n",
              "\n",
              "    .dataframe thead th {\n",
              "        text-align: right;\n",
              "    }\n",
              "</style>\n",
              "<table border=\"1\" class=\"dataframe\">\n",
              "  <thead>\n",
              "    <tr style=\"text-align: right;\">\n",
              "      <th></th>\n",
              "      <th>_id</th>\n",
              "      <th>time</th>\n",
              "      <th>high</th>\n",
              "      <th>low</th>\n",
              "      <th>open</th>\n",
              "      <th>close</th>\n",
              "    </tr>\n",
              "  </thead>\n",
              "  <tbody>\n",
              "    <tr>\n",
              "      <th>0</th>\n",
              "      <td>5f5c943ba9115d187c3c8ad4</td>\n",
              "      <td>1470268800</td>\n",
              "      <td>584.89</td>\n",
              "      <td>559.50</td>\n",
              "      <td>566.44</td>\n",
              "      <td>576.22</td>\n",
              "    </tr>\n",
              "    <tr>\n",
              "      <th>1</th>\n",
              "      <td>5f5c943ba9115d187c3c8ad5</td>\n",
              "      <td>1470355200</td>\n",
              "      <td>579.97</td>\n",
              "      <td>565.81</td>\n",
              "      <td>576.22</td>\n",
              "      <td>574.66</td>\n",
              "    </tr>\n",
              "    <tr>\n",
              "      <th>2</th>\n",
              "      <td>5f5c943ba9115d187c3c8ad6</td>\n",
              "      <td>1470441600</td>\n",
              "      <td>596.68</td>\n",
              "      <td>565.33</td>\n",
              "      <td>574.66</td>\n",
              "      <td>586.45</td>\n",
              "    </tr>\n",
              "    <tr>\n",
              "      <th>3</th>\n",
              "      <td>5f5c943ba9115d187c3c8ad7</td>\n",
              "      <td>1470528000</td>\n",
              "      <td>596.01</td>\n",
              "      <td>580.87</td>\n",
              "      <td>586.45</td>\n",
              "      <td>590.85</td>\n",
              "    </tr>\n",
              "    <tr>\n",
              "      <th>4</th>\n",
              "      <td>5f5c943ba9115d187c3c8ad8</td>\n",
              "      <td>1470614400</td>\n",
              "      <td>594.24</td>\n",
              "      <td>585.41</td>\n",
              "      <td>590.85</td>\n",
              "      <td>589.24</td>\n",
              "    </tr>\n",
              "    <tr>\n",
              "      <th>...</th>\n",
              "      <td>...</td>\n",
              "      <td>...</td>\n",
              "      <td>...</td>\n",
              "      <td>...</td>\n",
              "      <td>...</td>\n",
              "      <td>...</td>\n",
              "    </tr>\n",
              "    <tr>\n",
              "      <th>1496</th>\n",
              "      <td>5f5c943ba9115d187c3c90ac</td>\n",
              "      <td>1599523200</td>\n",
              "      <td>10443.72</td>\n",
              "      <td>9855.68</td>\n",
              "      <td>10379.08</td>\n",
              "      <td>10128.54</td>\n",
              "    </tr>\n",
              "    <tr>\n",
              "      <th>1497</th>\n",
              "      <td>5f5c943ba9115d187c3c90ad</td>\n",
              "      <td>1599609600</td>\n",
              "      <td>10349.09</td>\n",
              "      <td>9989.63</td>\n",
              "      <td>10128.54</td>\n",
              "      <td>10228.85</td>\n",
              "    </tr>\n",
              "    <tr>\n",
              "      <th>1498</th>\n",
              "      <td>5f5c943ba9115d187c3c90ae</td>\n",
              "      <td>1599696000</td>\n",
              "      <td>10493.32</td>\n",
              "      <td>10221.37</td>\n",
              "      <td>10228.85</td>\n",
              "      <td>10345.68</td>\n",
              "    </tr>\n",
              "    <tr>\n",
              "      <th>1499</th>\n",
              "      <td>5f5c943ba9115d187c3c90af</td>\n",
              "      <td>1599782400</td>\n",
              "      <td>10412.60</td>\n",
              "      <td>10215.49</td>\n",
              "      <td>10345.68</td>\n",
              "      <td>10398.50</td>\n",
              "    </tr>\n",
              "    <tr>\n",
              "      <th>1500</th>\n",
              "      <td>5f5c943ba9115d187c3c90b0</td>\n",
              "      <td>1599868800</td>\n",
              "      <td>10412.41</td>\n",
              "      <td>10323.17</td>\n",
              "      <td>10398.50</td>\n",
              "      <td>10349.80</td>\n",
              "    </tr>\n",
              "  </tbody>\n",
              "</table>\n",
              "<p>1501 rows × 6 columns</p>\n",
              "</div>"
            ],
            "text/plain": [
              "                           _id        time  ...      open     close\n",
              "0     5f5c943ba9115d187c3c8ad4  1470268800  ...    566.44    576.22\n",
              "1     5f5c943ba9115d187c3c8ad5  1470355200  ...    576.22    574.66\n",
              "2     5f5c943ba9115d187c3c8ad6  1470441600  ...    574.66    586.45\n",
              "3     5f5c943ba9115d187c3c8ad7  1470528000  ...    586.45    590.85\n",
              "4     5f5c943ba9115d187c3c8ad8  1470614400  ...    590.85    589.24\n",
              "...                        ...         ...  ...       ...       ...\n",
              "1496  5f5c943ba9115d187c3c90ac  1599523200  ...  10379.08  10128.54\n",
              "1497  5f5c943ba9115d187c3c90ad  1599609600  ...  10128.54  10228.85\n",
              "1498  5f5c943ba9115d187c3c90ae  1599696000  ...  10228.85  10345.68\n",
              "1499  5f5c943ba9115d187c3c90af  1599782400  ...  10345.68  10398.50\n",
              "1500  5f5c943ba9115d187c3c90b0  1599868800  ...  10398.50  10349.80\n",
              "\n",
              "[1501 rows x 6 columns]"
            ]
          },
          "metadata": {
            "tags": []
          },
          "execution_count": 153
        }
      ]
    },
    {
      "cell_type": "code",
      "metadata": {
        "id": "Gc3rnvcKEcM9",
        "colab_type": "code",
        "colab": {}
      },
      "source": [
        "df=df.drop(labels=['_id','time'],axis=1)"
      ],
      "execution_count": null,
      "outputs": []
    },
    {
      "cell_type": "code",
      "metadata": {
        "id": "s4GD0gR5Ek2v",
        "colab_type": "code",
        "colab": {}
      },
      "source": [
        "y = df['high']"
      ],
      "execution_count": null,
      "outputs": []
    },
    {
      "cell_type": "code",
      "metadata": {
        "id": "kQm6vA2LE65W",
        "colab_type": "code",
        "colab": {}
      },
      "source": [
        "y = np.array(y)"
      ],
      "execution_count": null,
      "outputs": []
    },
    {
      "cell_type": "code",
      "metadata": {
        "id": "6oeGt-xZE_Xw",
        "colab_type": "code",
        "colab": {
          "base_uri": "https://localhost:8080/",
          "height": 34
        },
        "outputId": "19e68be5-6bb2-485a-83bd-7406d22f56eb"
      },
      "source": [
        "y"
      ],
      "execution_count": null,
      "outputs": [
        {
          "output_type": "execute_result",
          "data": {
            "text/plain": [
              "array([  584.89,   579.97,   596.68, ..., 10493.32, 10412.6 , 10412.41])"
            ]
          },
          "metadata": {
            "tags": []
          },
          "execution_count": 157
        }
      ]
    },
    {
      "cell_type": "code",
      "metadata": {
        "id": "N7uVmjySFKaS",
        "colab_type": "code",
        "colab": {}
      },
      "source": [
        "df=df.drop(labels=['high'],axis=1)"
      ],
      "execution_count": null,
      "outputs": []
    },
    {
      "cell_type": "code",
      "metadata": {
        "id": "V7LtE9EiFOTu",
        "colab_type": "code",
        "colab": {
          "base_uri": "https://localhost:8080/",
          "height": 402
        },
        "outputId": "bee957b8-3e27-4619-99a2-c1fb97b44fe1"
      },
      "source": [
        "df"
      ],
      "execution_count": null,
      "outputs": [
        {
          "output_type": "execute_result",
          "data": {
            "text/html": [
              "<div>\n",
              "<style scoped>\n",
              "    .dataframe tbody tr th:only-of-type {\n",
              "        vertical-align: middle;\n",
              "    }\n",
              "\n",
              "    .dataframe tbody tr th {\n",
              "        vertical-align: top;\n",
              "    }\n",
              "\n",
              "    .dataframe thead th {\n",
              "        text-align: right;\n",
              "    }\n",
              "</style>\n",
              "<table border=\"1\" class=\"dataframe\">\n",
              "  <thead>\n",
              "    <tr style=\"text-align: right;\">\n",
              "      <th></th>\n",
              "      <th>low</th>\n",
              "      <th>open</th>\n",
              "      <th>close</th>\n",
              "    </tr>\n",
              "  </thead>\n",
              "  <tbody>\n",
              "    <tr>\n",
              "      <th>0</th>\n",
              "      <td>559.50</td>\n",
              "      <td>566.44</td>\n",
              "      <td>576.22</td>\n",
              "    </tr>\n",
              "    <tr>\n",
              "      <th>1</th>\n",
              "      <td>565.81</td>\n",
              "      <td>576.22</td>\n",
              "      <td>574.66</td>\n",
              "    </tr>\n",
              "    <tr>\n",
              "      <th>2</th>\n",
              "      <td>565.33</td>\n",
              "      <td>574.66</td>\n",
              "      <td>586.45</td>\n",
              "    </tr>\n",
              "    <tr>\n",
              "      <th>3</th>\n",
              "      <td>580.87</td>\n",
              "      <td>586.45</td>\n",
              "      <td>590.85</td>\n",
              "    </tr>\n",
              "    <tr>\n",
              "      <th>4</th>\n",
              "      <td>585.41</td>\n",
              "      <td>590.85</td>\n",
              "      <td>589.24</td>\n",
              "    </tr>\n",
              "    <tr>\n",
              "      <th>...</th>\n",
              "      <td>...</td>\n",
              "      <td>...</td>\n",
              "      <td>...</td>\n",
              "    </tr>\n",
              "    <tr>\n",
              "      <th>1496</th>\n",
              "      <td>9855.68</td>\n",
              "      <td>10379.08</td>\n",
              "      <td>10128.54</td>\n",
              "    </tr>\n",
              "    <tr>\n",
              "      <th>1497</th>\n",
              "      <td>9989.63</td>\n",
              "      <td>10128.54</td>\n",
              "      <td>10228.85</td>\n",
              "    </tr>\n",
              "    <tr>\n",
              "      <th>1498</th>\n",
              "      <td>10221.37</td>\n",
              "      <td>10228.85</td>\n",
              "      <td>10345.68</td>\n",
              "    </tr>\n",
              "    <tr>\n",
              "      <th>1499</th>\n",
              "      <td>10215.49</td>\n",
              "      <td>10345.68</td>\n",
              "      <td>10398.50</td>\n",
              "    </tr>\n",
              "    <tr>\n",
              "      <th>1500</th>\n",
              "      <td>10323.17</td>\n",
              "      <td>10398.50</td>\n",
              "      <td>10349.80</td>\n",
              "    </tr>\n",
              "  </tbody>\n",
              "</table>\n",
              "<p>1501 rows × 3 columns</p>\n",
              "</div>"
            ],
            "text/plain": [
              "           low      open     close\n",
              "0       559.50    566.44    576.22\n",
              "1       565.81    576.22    574.66\n",
              "2       565.33    574.66    586.45\n",
              "3       580.87    586.45    590.85\n",
              "4       585.41    590.85    589.24\n",
              "...        ...       ...       ...\n",
              "1496   9855.68  10379.08  10128.54\n",
              "1497   9989.63  10128.54  10228.85\n",
              "1498  10221.37  10228.85  10345.68\n",
              "1499  10215.49  10345.68  10398.50\n",
              "1500  10323.17  10398.50  10349.80\n",
              "\n",
              "[1501 rows x 3 columns]"
            ]
          },
          "metadata": {
            "tags": []
          },
          "execution_count": 159
        }
      ]
    },
    {
      "cell_type": "code",
      "metadata": {
        "id": "aYdTPayHFXOq",
        "colab_type": "code",
        "colab": {}
      },
      "source": [
        "X = np.array(df)"
      ],
      "execution_count": null,
      "outputs": []
    },
    {
      "cell_type": "code",
      "metadata": {
        "id": "kcPDck6OFrVv",
        "colab_type": "code",
        "colab": {
          "base_uri": "https://localhost:8080/",
          "height": 134
        },
        "outputId": "38650018-2d32-42eb-8a82-f1d648f1f95e"
      },
      "source": [
        "X"
      ],
      "execution_count": null,
      "outputs": [
        {
          "output_type": "execute_result",
          "data": {
            "text/plain": [
              "array([[  559.5 ,   566.44,   576.22],\n",
              "       [  565.81,   576.22,   574.66],\n",
              "       [  565.33,   574.66,   586.45],\n",
              "       ...,\n",
              "       [10221.37, 10228.85, 10345.68],\n",
              "       [10215.49, 10345.68, 10398.5 ],\n",
              "       [10323.17, 10398.5 , 10349.8 ]])"
            ]
          },
          "metadata": {
            "tags": []
          },
          "execution_count": 161
        }
      ]
    },
    {
      "cell_type": "code",
      "metadata": {
        "id": "8C3jsjevHvA-",
        "colab_type": "code",
        "colab": {}
      },
      "source": [
        "from sklearn.preprocessing import MinMaxScaler\n",
        "scaler=MinMaxScaler(feature_range=(0,1))\n",
        "X1=scaler.fit_transform(X.reshape(-1,3))"
      ],
      "execution_count": null,
      "outputs": []
    },
    {
      "cell_type": "code",
      "metadata": {
        "id": "CVUcqLipH4yF",
        "colab_type": "code",
        "colab": {
          "base_uri": "https://localhost:8080/",
          "height": 134
        },
        "outputId": "0f34f337-6f88-4ece-c970-f2312ed59645"
      },
      "source": [
        "X1"
      ],
      "execution_count": null,
      "outputs": [
        {
          "output_type": "execute_result",
          "data": {
            "text/plain": [
              "array([[1.20934738e-05, 0.00000000e+00, 4.93648601e-04],\n",
              "       [3.58956289e-04, 5.20762336e-04, 4.10575050e-04],\n",
              "       [3.32570528e-04, 4.37695951e-04, 1.03841939e-03],\n",
              "       ...,\n",
              "       [5.31128327e-01, 5.14500941e-01, 5.20739632e-01],\n",
              "       [5.30805101e-01, 5.20721868e-01, 5.23552417e-01],\n",
              "       [5.36724307e-01, 5.23534411e-01, 5.20959031e-01]])"
            ]
          },
          "metadata": {
            "tags": []
          },
          "execution_count": 163
        }
      ]
    },
    {
      "cell_type": "code",
      "metadata": {
        "id": "J59fUqbgJ35j",
        "colab_type": "code",
        "colab": {
          "base_uri": "https://localhost:8080/",
          "height": 34
        },
        "outputId": "3abf0a9f-8744-4ccb-f39b-d00bfad8fc0b"
      },
      "source": [
        "X1.shape"
      ],
      "execution_count": null,
      "outputs": [
        {
          "output_type": "execute_result",
          "data": {
            "text/plain": [
              "(1501, 3)"
            ]
          },
          "metadata": {
            "tags": []
          },
          "execution_count": 164
        }
      ]
    },
    {
      "cell_type": "code",
      "metadata": {
        "id": "rFTAcBukL0Tl",
        "colab_type": "code",
        "colab": {}
      },
      "source": [
        "n_features = 1\n",
        "X1 = X1.reshape((X1.shape[0], X1.shape[1], n_features))"
      ],
      "execution_count": null,
      "outputs": []
    },
    {
      "cell_type": "code",
      "metadata": {
        "id": "aoWMed2SNldN",
        "colab_type": "code",
        "colab": {
          "base_uri": "https://localhost:8080/",
          "height": 34
        },
        "outputId": "177331a2-274e-493c-87e0-631f58c28e74"
      },
      "source": [
        "X1.shape"
      ],
      "execution_count": null,
      "outputs": [
        {
          "output_type": "execute_result",
          "data": {
            "text/plain": [
              "(1501, 3, 1)"
            ]
          },
          "metadata": {
            "tags": []
          },
          "execution_count": 166
        }
      ]
    },
    {
      "cell_type": "code",
      "metadata": {
        "id": "gpOA28NsKgjV",
        "colab_type": "code",
        "colab": {}
      },
      "source": [
        "from sklearn.preprocessing import MinMaxScaler\n",
        "scaler=MinMaxScaler(feature_range=(0,1))\n",
        "y1=scaler.fit_transform(y.reshape(-1,1))"
      ],
      "execution_count": null,
      "outputs": []
    },
    {
      "cell_type": "code",
      "metadata": {
        "id": "AZyv5Mj0KpJk",
        "colab_type": "code",
        "colab": {
          "base_uri": "https://localhost:8080/",
          "height": 134
        },
        "outputId": "5845a531-a6dc-4696-ebd0-50379f454ae2"
      },
      "source": [
        "y1"
      ],
      "execution_count": null,
      "outputs": [
        {
          "output_type": "execute_result",
          "data": {
            "text/plain": [
              "array([[5.14105511e-04],\n",
              "       [2.59125762e-04],\n",
              "       [1.12512406e-03],\n",
              "       ...,\n",
              "       [5.14019999e-01],\n",
              "       [5.09836673e-01],\n",
              "       [5.09826826e-01]])"
            ]
          },
          "metadata": {
            "tags": []
          },
          "execution_count": 168
        }
      ]
    },
    {
      "cell_type": "code",
      "metadata": {
        "id": "X5LpywAiLvSq",
        "colab_type": "code",
        "colab": {
          "base_uri": "https://localhost:8080/",
          "height": 34
        },
        "outputId": "e5ce7b8d-e687-458e-ec33-3d2668d2ec1a"
      },
      "source": [
        "y1.shape"
      ],
      "execution_count": null,
      "outputs": [
        {
          "output_type": "execute_result",
          "data": {
            "text/plain": [
              "(1501, 1)"
            ]
          },
          "metadata": {
            "tags": []
          },
          "execution_count": 169
        }
      ]
    },
    {
      "cell_type": "code",
      "metadata": {
        "id": "FDYZxZHrGCVG",
        "colab_type": "code",
        "colab": {}
      },
      "source": [
        "# Importing the library\n",
        "from sklearn.model_selection import train_test_split"
      ],
      "execution_count": null,
      "outputs": []
    },
    {
      "cell_type": "code",
      "metadata": {
        "id": "JAfK2L7yGDTw",
        "colab_type": "code",
        "colab": {}
      },
      "source": [
        "#Splitting the data \n",
        "X_train, X_test, y_train, y_test = train_test_split(X1, y1, test_size=0.2)"
      ],
      "execution_count": null,
      "outputs": []
    },
    {
      "cell_type": "code",
      "metadata": {
        "id": "LfE7f5_FNH3D",
        "colab_type": "code",
        "colab": {
          "base_uri": "https://localhost:8080/",
          "height": 67
        },
        "outputId": "9cb2043a-28c9-48c7-8b1b-b8ce0b7a3897"
      },
      "source": [
        "print(X_train.shape), print(y_train.shape)"
      ],
      "execution_count": null,
      "outputs": [
        {
          "output_type": "stream",
          "text": [
            "(1200, 3, 1)\n",
            "(1200, 1)\n"
          ],
          "name": "stdout"
        },
        {
          "output_type": "execute_result",
          "data": {
            "text/plain": [
              "(None, None)"
            ]
          },
          "metadata": {
            "tags": []
          },
          "execution_count": 172
        }
      ]
    },
    {
      "cell_type": "code",
      "metadata": {
        "id": "0z0doE-vNIjG",
        "colab_type": "code",
        "colab": {
          "base_uri": "https://localhost:8080/",
          "height": 67
        },
        "outputId": "9aa00adb-8b4c-482f-a608-2efbb36fbd2d"
      },
      "source": [
        "print(X_test.shape), print(y_test.shape)"
      ],
      "execution_count": null,
      "outputs": [
        {
          "output_type": "stream",
          "text": [
            "(301, 3, 1)\n",
            "(301, 1)\n"
          ],
          "name": "stdout"
        },
        {
          "output_type": "execute_result",
          "data": {
            "text/plain": [
              "(None, None)"
            ]
          },
          "metadata": {
            "tags": []
          },
          "execution_count": 173
        }
      ]
    },
    {
      "cell_type": "code",
      "metadata": {
        "id": "bltK0qQvOTgr",
        "colab_type": "code",
        "colab": {}
      },
      "source": [
        "### Create the Stacked LSTM model\n",
        "from tensorflow.keras.models import Sequential\n",
        "from tensorflow.keras.layers import Dense\n",
        "from tensorflow.keras.layers import LSTM,GRU"
      ],
      "execution_count": null,
      "outputs": []
    },
    {
      "cell_type": "markdown",
      "metadata": {
        "id": "lWXYDjLmaHeJ",
        "colab_type": "text"
      },
      "source": [
        "# **GRU**"
      ]
    },
    {
      "cell_type": "code",
      "metadata": {
        "id": "6K9PFWcaaKXR",
        "colab_type": "code",
        "colab": {
          "base_uri": "https://localhost:8080/",
          "height": 1000
        },
        "outputId": "be987dfc-7108-4829-918b-d5db92c5f492"
      },
      "source": [
        "# define model1 GRU\n",
        "model1 = Sequential()\n",
        "model1.add(GRU(100, activation='linear', return_sequences=True, input_shape=(3, 1)))\n",
        "model1.add(GRU(50, activation='linear'))\n",
        "model1.add(Dense(1))\n",
        "model1.compile(optimizer='adam', loss='mse')\n",
        "# fit model\n",
        "model1.fit(X_train, y_train, epochs=100, verbose=1)"
      ],
      "execution_count": null,
      "outputs": [
        {
          "output_type": "stream",
          "text": [
            "Epoch 1/100\n",
            "38/38 [==============================] - 0s 6ms/step - loss: 0.0120\n",
            "Epoch 2/100\n",
            "38/38 [==============================] - 0s 6ms/step - loss: 2.9274e-04\n",
            "Epoch 3/100\n",
            "38/38 [==============================] - 0s 6ms/step - loss: 1.4019e-04\n",
            "Epoch 4/100\n",
            "38/38 [==============================] - 0s 6ms/step - loss: 1.2887e-04\n",
            "Epoch 5/100\n",
            "38/38 [==============================] - 0s 6ms/step - loss: 1.2693e-04\n",
            "Epoch 6/100\n",
            "38/38 [==============================] - 0s 6ms/step - loss: 1.3080e-04\n",
            "Epoch 7/100\n",
            "38/38 [==============================] - 0s 7ms/step - loss: 1.3599e-04\n",
            "Epoch 8/100\n",
            "38/38 [==============================] - 0s 6ms/step - loss: 1.2874e-04\n",
            "Epoch 9/100\n",
            "38/38 [==============================] - 0s 6ms/step - loss: 1.3047e-04\n",
            "Epoch 10/100\n",
            "38/38 [==============================] - 0s 6ms/step - loss: 1.5300e-04\n",
            "Epoch 11/100\n",
            "38/38 [==============================] - 0s 6ms/step - loss: 1.3563e-04\n",
            "Epoch 12/100\n",
            "38/38 [==============================] - 0s 6ms/step - loss: 1.3097e-04\n",
            "Epoch 13/100\n",
            "38/38 [==============================] - 0s 6ms/step - loss: 1.3768e-04\n",
            "Epoch 14/100\n",
            "38/38 [==============================] - 0s 6ms/step - loss: 1.2758e-04\n",
            "Epoch 15/100\n",
            "38/38 [==============================] - 0s 7ms/step - loss: 1.3622e-04\n",
            "Epoch 16/100\n",
            "38/38 [==============================] - 0s 6ms/step - loss: 1.2624e-04\n",
            "Epoch 17/100\n",
            "38/38 [==============================] - 0s 6ms/step - loss: 1.2933e-04\n",
            "Epoch 18/100\n",
            "38/38 [==============================] - 0s 6ms/step - loss: 1.3218e-04\n",
            "Epoch 19/100\n",
            "38/38 [==============================] - 0s 7ms/step - loss: 1.2931e-04\n",
            "Epoch 20/100\n",
            "38/38 [==============================] - 0s 6ms/step - loss: 1.5338e-04\n",
            "Epoch 21/100\n",
            "38/38 [==============================] - 0s 6ms/step - loss: 1.2620e-04\n",
            "Epoch 22/100\n",
            "38/38 [==============================] - 0s 6ms/step - loss: 1.2182e-04\n",
            "Epoch 23/100\n",
            "38/38 [==============================] - 0s 7ms/step - loss: 1.2168e-04\n",
            "Epoch 24/100\n",
            "38/38 [==============================] - 0s 6ms/step - loss: 1.3667e-04\n",
            "Epoch 25/100\n",
            "38/38 [==============================] - 0s 6ms/step - loss: 1.2698e-04\n",
            "Epoch 26/100\n",
            "38/38 [==============================] - 0s 6ms/step - loss: 1.3020e-04\n",
            "Epoch 27/100\n",
            "38/38 [==============================] - 0s 6ms/step - loss: 1.1947e-04\n",
            "Epoch 28/100\n",
            "38/38 [==============================] - 0s 7ms/step - loss: 1.2979e-04\n",
            "Epoch 29/100\n",
            "38/38 [==============================] - 0s 6ms/step - loss: 1.3392e-04\n",
            "Epoch 30/100\n",
            "38/38 [==============================] - 0s 6ms/step - loss: 1.2676e-04\n",
            "Epoch 31/100\n",
            "38/38 [==============================] - 0s 7ms/step - loss: 1.4516e-04\n",
            "Epoch 32/100\n",
            "38/38 [==============================] - 0s 6ms/step - loss: 1.2710e-04\n",
            "Epoch 33/100\n",
            "38/38 [==============================] - 0s 6ms/step - loss: 1.2416e-04\n",
            "Epoch 34/100\n",
            "38/38 [==============================] - 0s 6ms/step - loss: 1.1498e-04\n",
            "Epoch 35/100\n",
            "38/38 [==============================] - 0s 6ms/step - loss: 1.4364e-04\n",
            "Epoch 36/100\n",
            "38/38 [==============================] - 0s 6ms/step - loss: 1.1738e-04\n",
            "Epoch 37/100\n",
            "38/38 [==============================] - 0s 6ms/step - loss: 1.1769e-04\n",
            "Epoch 38/100\n",
            "38/38 [==============================] - 0s 6ms/step - loss: 1.2503e-04\n",
            "Epoch 39/100\n",
            "38/38 [==============================] - 0s 7ms/step - loss: 1.4179e-04\n",
            "Epoch 40/100\n",
            "38/38 [==============================] - 0s 6ms/step - loss: 1.4482e-04\n",
            "Epoch 41/100\n",
            "38/38 [==============================] - 0s 6ms/step - loss: 1.2368e-04\n",
            "Epoch 42/100\n",
            "38/38 [==============================] - 0s 6ms/step - loss: 1.1596e-04\n",
            "Epoch 43/100\n",
            "38/38 [==============================] - 0s 6ms/step - loss: 1.2570e-04\n",
            "Epoch 44/100\n",
            "38/38 [==============================] - 0s 6ms/step - loss: 1.2172e-04\n",
            "Epoch 45/100\n",
            "38/38 [==============================] - 0s 5ms/step - loss: 1.2433e-04\n",
            "Epoch 46/100\n",
            "38/38 [==============================] - 0s 6ms/step - loss: 1.1345e-04\n",
            "Epoch 47/100\n",
            "38/38 [==============================] - 0s 5ms/step - loss: 1.2111e-04\n",
            "Epoch 48/100\n",
            "38/38 [==============================] - 0s 6ms/step - loss: 1.3141e-04\n",
            "Epoch 49/100\n",
            "38/38 [==============================] - 0s 6ms/step - loss: 1.5460e-04\n",
            "Epoch 50/100\n",
            "38/38 [==============================] - 0s 6ms/step - loss: 1.2934e-04\n",
            "Epoch 51/100\n",
            "38/38 [==============================] - 0s 6ms/step - loss: 1.5054e-04\n",
            "Epoch 52/100\n",
            "38/38 [==============================] - 0s 6ms/step - loss: 1.1246e-04\n",
            "Epoch 53/100\n",
            "38/38 [==============================] - 0s 6ms/step - loss: 1.1348e-04\n",
            "Epoch 54/100\n",
            "38/38 [==============================] - 0s 6ms/step - loss: 1.0712e-04\n",
            "Epoch 55/100\n",
            "38/38 [==============================] - 0s 6ms/step - loss: 1.0435e-04\n",
            "Epoch 56/100\n",
            "38/38 [==============================] - 0s 6ms/step - loss: 1.0724e-04\n",
            "Epoch 57/100\n",
            "38/38 [==============================] - 0s 6ms/step - loss: 1.2859e-04\n",
            "Epoch 58/100\n",
            "38/38 [==============================] - 0s 5ms/step - loss: 1.0179e-04\n",
            "Epoch 59/100\n",
            "38/38 [==============================] - 0s 5ms/step - loss: 1.0296e-04\n",
            "Epoch 60/100\n",
            "38/38 [==============================] - 0s 5ms/step - loss: 1.0673e-04\n",
            "Epoch 61/100\n",
            "38/38 [==============================] - 0s 6ms/step - loss: 1.0391e-04\n",
            "Epoch 62/100\n",
            "38/38 [==============================] - 0s 6ms/step - loss: 1.0431e-04\n",
            "Epoch 63/100\n",
            "38/38 [==============================] - 0s 6ms/step - loss: 9.9031e-05\n",
            "Epoch 64/100\n",
            "38/38 [==============================] - 0s 6ms/step - loss: 1.2401e-04\n",
            "Epoch 65/100\n",
            "38/38 [==============================] - 0s 5ms/step - loss: 1.2054e-04\n",
            "Epoch 66/100\n",
            "38/38 [==============================] - 0s 6ms/step - loss: 1.1310e-04\n",
            "Epoch 67/100\n",
            "38/38 [==============================] - 0s 6ms/step - loss: 1.0347e-04\n",
            "Epoch 68/100\n",
            "38/38 [==============================] - 0s 5ms/step - loss: 1.0734e-04\n",
            "Epoch 69/100\n",
            "38/38 [==============================] - 0s 6ms/step - loss: 9.6542e-05\n",
            "Epoch 70/100\n",
            "38/38 [==============================] - 0s 6ms/step - loss: 1.3115e-04\n",
            "Epoch 71/100\n",
            "38/38 [==============================] - 0s 6ms/step - loss: 1.1048e-04\n",
            "Epoch 72/100\n",
            "38/38 [==============================] - 0s 5ms/step - loss: 1.0396e-04\n",
            "Epoch 73/100\n",
            "38/38 [==============================] - 0s 5ms/step - loss: 1.0185e-04\n",
            "Epoch 74/100\n",
            "38/38 [==============================] - 0s 6ms/step - loss: 1.0358e-04\n",
            "Epoch 75/100\n",
            "38/38 [==============================] - 0s 6ms/step - loss: 1.2010e-04\n",
            "Epoch 76/100\n",
            "38/38 [==============================] - 0s 5ms/step - loss: 1.5592e-04\n",
            "Epoch 77/100\n",
            "38/38 [==============================] - 0s 5ms/step - loss: 1.2575e-04\n",
            "Epoch 78/100\n",
            "38/38 [==============================] - 0s 6ms/step - loss: 1.1117e-04\n",
            "Epoch 79/100\n",
            "38/38 [==============================] - 0s 6ms/step - loss: 1.0855e-04\n",
            "Epoch 80/100\n",
            "38/38 [==============================] - 0s 6ms/step - loss: 1.2669e-04\n",
            "Epoch 81/100\n",
            "38/38 [==============================] - 0s 6ms/step - loss: 1.3676e-04\n",
            "Epoch 82/100\n",
            "38/38 [==============================] - 0s 6ms/step - loss: 9.2280e-05\n",
            "Epoch 83/100\n",
            "38/38 [==============================] - 0s 6ms/step - loss: 9.6518e-05\n",
            "Epoch 84/100\n",
            "38/38 [==============================] - 0s 6ms/step - loss: 8.9005e-05\n",
            "Epoch 85/100\n",
            "38/38 [==============================] - 0s 6ms/step - loss: 9.1961e-05\n",
            "Epoch 86/100\n",
            "38/38 [==============================] - 0s 6ms/step - loss: 8.9811e-05\n",
            "Epoch 87/100\n",
            "38/38 [==============================] - 0s 6ms/step - loss: 8.2605e-05\n",
            "Epoch 88/100\n",
            "38/38 [==============================] - 0s 5ms/step - loss: 9.6389e-05\n",
            "Epoch 89/100\n",
            "38/38 [==============================] - 0s 5ms/step - loss: 8.1518e-05\n",
            "Epoch 90/100\n",
            "38/38 [==============================] - 0s 6ms/step - loss: 8.5704e-05\n",
            "Epoch 91/100\n",
            "38/38 [==============================] - 0s 6ms/step - loss: 9.9830e-05\n",
            "Epoch 92/100\n",
            "38/38 [==============================] - 0s 5ms/step - loss: 9.4884e-05\n",
            "Epoch 93/100\n",
            "38/38 [==============================] - 0s 6ms/step - loss: 7.5707e-05\n",
            "Epoch 94/100\n",
            "38/38 [==============================] - 0s 6ms/step - loss: 1.0536e-04\n",
            "Epoch 95/100\n",
            "38/38 [==============================] - 0s 5ms/step - loss: 1.0388e-04\n",
            "Epoch 96/100\n",
            "38/38 [==============================] - 0s 6ms/step - loss: 8.1248e-05\n",
            "Epoch 97/100\n",
            "38/38 [==============================] - 0s 6ms/step - loss: 7.8877e-05\n",
            "Epoch 98/100\n",
            "38/38 [==============================] - 0s 6ms/step - loss: 7.9716e-05\n",
            "Epoch 99/100\n",
            "38/38 [==============================] - 0s 6ms/step - loss: 7.4425e-05\n",
            "Epoch 100/100\n",
            "38/38 [==============================] - 0s 6ms/step - loss: 6.6382e-05\n"
          ],
          "name": "stdout"
        },
        {
          "output_type": "execute_result",
          "data": {
            "text/plain": [
              "<tensorflow.python.keras.callbacks.History at 0x7f09dcf96a90>"
            ]
          },
          "metadata": {
            "tags": []
          },
          "execution_count": 175
        }
      ]
    },
    {
      "cell_type": "code",
      "metadata": {
        "id": "rwEVgkYcaNPo",
        "colab_type": "code",
        "colab": {}
      },
      "source": [
        "### Lets Do the prediction and check performance metrics\n",
        "train_predict=model1.predict(X_train)\n",
        "test_predict=model1.predict(X_test)"
      ],
      "execution_count": null,
      "outputs": []
    },
    {
      "cell_type": "code",
      "metadata": {
        "id": "WPd64lhuaQSg",
        "colab_type": "code",
        "colab": {
          "base_uri": "https://localhost:8080/",
          "height": 34
        },
        "outputId": "fef201ca-d9d4-44d4-ec32-bcae1bb245e9"
      },
      "source": [
        "### Calculate MSE performance metrics\n",
        "import math\n",
        "from sklearn.metrics import mean_squared_error\n",
        "mean_squared_error(y_train,train_predict)\n"
      ],
      "execution_count": null,
      "outputs": [
        {
          "output_type": "execute_result",
          "data": {
            "text/plain": [
              "5.59721272155328e-05"
            ]
          },
          "metadata": {
            "tags": []
          },
          "execution_count": 177
        }
      ]
    },
    {
      "cell_type": "code",
      "metadata": {
        "id": "F_0Wm3qraQyU",
        "colab_type": "code",
        "colab": {
          "base_uri": "https://localhost:8080/",
          "height": 34
        },
        "outputId": "83e1d67e-b6db-420c-88f2-f41604d5cf88"
      },
      "source": [
        "### Calculate MSE performance metrics\n",
        "import math\n",
        "from sklearn.metrics import mean_squared_error\n",
        "mse1 = mean_squared_error(y_test,test_predict)\n",
        "mse1"
      ],
      "execution_count": null,
      "outputs": [
        {
          "output_type": "execute_result",
          "data": {
            "text/plain": [
              "5.374530229997672e-05"
            ]
          },
          "metadata": {
            "tags": []
          },
          "execution_count": 178
        }
      ]
    },
    {
      "cell_type": "code",
      "metadata": {
        "id": "t1wsAjgBaX3d",
        "colab_type": "code",
        "colab": {
          "base_uri": "https://localhost:8080/",
          "height": 34
        },
        "outputId": "5769ba6d-bb39-48f5-d5d5-51533a609062"
      },
      "source": [
        "### Calculate r2 performance metrics\n",
        "import math\n",
        "from sklearn.metrics import r2_score\n",
        "r1 = r2_score(y_test,test_predict)\n",
        "r1"
      ],
      "execution_count": null,
      "outputs": [
        {
          "output_type": "execute_result",
          "data": {
            "text/plain": [
              "0.9986993775205164"
            ]
          },
          "metadata": {
            "tags": []
          },
          "execution_count": 179
        }
      ]
    },
    {
      "cell_type": "markdown",
      "metadata": {
        "id": "GL1v5n1PaCcG",
        "colab_type": "text"
      },
      "source": [
        "# **LSTM**"
      ]
    },
    {
      "cell_type": "code",
      "metadata": {
        "id": "OyYvj7SYNLEm",
        "colab_type": "code",
        "colab": {
          "base_uri": "https://localhost:8080/",
          "height": 1000
        },
        "outputId": "38257005-e349-4873-b1bf-476e49404529"
      },
      "source": [
        "# define model2 LSTM\n",
        "model2 = Sequential()\n",
        "model2.add(LSTM(100, activation='linear', return_sequences=True, input_shape=(3, 1)))\n",
        "model2.add(LSTM(50, activation='linear'))\n",
        "model2.add(Dense(1))\n",
        "model2.compile(optimizer='adam', loss='mse')\n",
        "# fit model\n",
        "model2.fit(X_train, y_train, epochs=100, verbose=1)"
      ],
      "execution_count": null,
      "outputs": [
        {
          "output_type": "stream",
          "text": [
            "Epoch 1/100\n",
            "38/38 [==============================] - 0s 5ms/step - loss: 0.0332\n",
            "Epoch 2/100\n",
            "38/38 [==============================] - 0s 5ms/step - loss: 0.0018\n",
            "Epoch 3/100\n",
            "38/38 [==============================] - 0s 5ms/step - loss: 3.3275e-04\n",
            "Epoch 4/100\n",
            "38/38 [==============================] - 0s 5ms/step - loss: 2.6074e-04\n",
            "Epoch 5/100\n",
            "38/38 [==============================] - 0s 5ms/step - loss: 2.1121e-04\n",
            "Epoch 6/100\n",
            "38/38 [==============================] - 0s 5ms/step - loss: 1.9269e-04\n",
            "Epoch 7/100\n",
            "38/38 [==============================] - 0s 5ms/step - loss: 1.7857e-04\n",
            "Epoch 8/100\n",
            "38/38 [==============================] - 0s 6ms/step - loss: 1.9571e-04\n",
            "Epoch 9/100\n",
            "38/38 [==============================] - 0s 5ms/step - loss: 1.7918e-04\n",
            "Epoch 10/100\n",
            "38/38 [==============================] - 0s 5ms/step - loss: 1.7524e-04\n",
            "Epoch 11/100\n",
            "38/38 [==============================] - 0s 5ms/step - loss: 1.6308e-04\n",
            "Epoch 12/100\n",
            "38/38 [==============================] - 0s 5ms/step - loss: 1.6853e-04\n",
            "Epoch 13/100\n",
            "38/38 [==============================] - 0s 5ms/step - loss: 1.8787e-04\n",
            "Epoch 14/100\n",
            "38/38 [==============================] - 0s 5ms/step - loss: 1.6822e-04\n",
            "Epoch 15/100\n",
            "38/38 [==============================] - 0s 5ms/step - loss: 1.6497e-04\n",
            "Epoch 16/100\n",
            "38/38 [==============================] - 0s 5ms/step - loss: 1.6780e-04\n",
            "Epoch 17/100\n",
            "38/38 [==============================] - 0s 5ms/step - loss: 1.8115e-04\n",
            "Epoch 18/100\n",
            "38/38 [==============================] - 0s 5ms/step - loss: 1.7345e-04\n",
            "Epoch 19/100\n",
            "38/38 [==============================] - 0s 5ms/step - loss: 1.7359e-04\n",
            "Epoch 20/100\n",
            "38/38 [==============================] - 0s 5ms/step - loss: 1.7094e-04\n",
            "Epoch 21/100\n",
            "38/38 [==============================] - 0s 5ms/step - loss: 1.7101e-04\n",
            "Epoch 22/100\n",
            "38/38 [==============================] - 0s 5ms/step - loss: 1.6765e-04\n",
            "Epoch 23/100\n",
            "38/38 [==============================] - 0s 5ms/step - loss: 1.6834e-04\n",
            "Epoch 24/100\n",
            "38/38 [==============================] - 0s 5ms/step - loss: 1.6978e-04\n",
            "Epoch 25/100\n",
            "38/38 [==============================] - 0s 5ms/step - loss: 1.6817e-04\n",
            "Epoch 26/100\n",
            "38/38 [==============================] - 0s 5ms/step - loss: 1.7210e-04\n",
            "Epoch 27/100\n",
            "38/38 [==============================] - 0s 5ms/step - loss: 1.8574e-04\n",
            "Epoch 28/100\n",
            "38/38 [==============================] - 0s 5ms/step - loss: 1.6882e-04\n",
            "Epoch 29/100\n",
            "38/38 [==============================] - 0s 5ms/step - loss: 1.6634e-04\n",
            "Epoch 30/100\n",
            "38/38 [==============================] - 0s 5ms/step - loss: 1.8259e-04\n",
            "Epoch 31/100\n",
            "38/38 [==============================] - 0s 5ms/step - loss: 1.6585e-04\n",
            "Epoch 32/100\n",
            "38/38 [==============================] - 0s 5ms/step - loss: 1.7812e-04\n",
            "Epoch 33/100\n",
            "38/38 [==============================] - 0s 5ms/step - loss: 1.7522e-04\n",
            "Epoch 34/100\n",
            "38/38 [==============================] - 0s 5ms/step - loss: 1.6562e-04\n",
            "Epoch 35/100\n",
            "38/38 [==============================] - 0s 5ms/step - loss: 2.0906e-04\n",
            "Epoch 36/100\n",
            "38/38 [==============================] - 0s 5ms/step - loss: 1.6577e-04\n",
            "Epoch 37/100\n",
            "38/38 [==============================] - 0s 5ms/step - loss: 1.6388e-04\n",
            "Epoch 38/100\n",
            "38/38 [==============================] - 0s 5ms/step - loss: 1.6231e-04\n",
            "Epoch 39/100\n",
            "38/38 [==============================] - 0s 5ms/step - loss: 1.6491e-04\n",
            "Epoch 40/100\n",
            "38/38 [==============================] - 0s 6ms/step - loss: 1.5999e-04\n",
            "Epoch 41/100\n",
            "38/38 [==============================] - 0s 5ms/step - loss: 1.7828e-04\n",
            "Epoch 42/100\n",
            "38/38 [==============================] - 0s 5ms/step - loss: 1.5827e-04\n",
            "Epoch 43/100\n",
            "38/38 [==============================] - 0s 5ms/step - loss: 1.6345e-04\n",
            "Epoch 44/100\n",
            "38/38 [==============================] - 0s 6ms/step - loss: 1.7146e-04\n",
            "Epoch 45/100\n",
            "38/38 [==============================] - 0s 6ms/step - loss: 1.6223e-04\n",
            "Epoch 46/100\n",
            "38/38 [==============================] - 0s 5ms/step - loss: 2.0303e-04\n",
            "Epoch 47/100\n",
            "38/38 [==============================] - 0s 5ms/step - loss: 1.8394e-04\n",
            "Epoch 48/100\n",
            "38/38 [==============================] - 0s 5ms/step - loss: 1.7759e-04\n",
            "Epoch 49/100\n",
            "38/38 [==============================] - 0s 5ms/step - loss: 1.7474e-04\n",
            "Epoch 50/100\n",
            "38/38 [==============================] - 0s 5ms/step - loss: 1.5704e-04\n",
            "Epoch 51/100\n",
            "38/38 [==============================] - 0s 5ms/step - loss: 1.6859e-04\n",
            "Epoch 52/100\n",
            "38/38 [==============================] - 0s 6ms/step - loss: 1.5800e-04\n",
            "Epoch 53/100\n",
            "38/38 [==============================] - 0s 5ms/step - loss: 1.7885e-04\n",
            "Epoch 54/100\n",
            "38/38 [==============================] - 0s 5ms/step - loss: 1.5602e-04\n",
            "Epoch 55/100\n",
            "38/38 [==============================] - 0s 6ms/step - loss: 1.5168e-04\n",
            "Epoch 56/100\n",
            "38/38 [==============================] - 0s 5ms/step - loss: 1.7159e-04\n",
            "Epoch 57/100\n",
            "38/38 [==============================] - 0s 5ms/step - loss: 2.3075e-04\n",
            "Epoch 58/100\n",
            "38/38 [==============================] - 0s 5ms/step - loss: 1.5840e-04\n",
            "Epoch 59/100\n",
            "38/38 [==============================] - 0s 5ms/step - loss: 1.8891e-04\n",
            "Epoch 60/100\n",
            "38/38 [==============================] - 0s 5ms/step - loss: 1.9184e-04\n",
            "Epoch 61/100\n",
            "38/38 [==============================] - 0s 5ms/step - loss: 1.7051e-04\n",
            "Epoch 62/100\n",
            "38/38 [==============================] - 0s 5ms/step - loss: 1.7036e-04\n",
            "Epoch 63/100\n",
            "38/38 [==============================] - 0s 5ms/step - loss: 1.5369e-04\n",
            "Epoch 64/100\n",
            "38/38 [==============================] - 0s 5ms/step - loss: 1.6091e-04\n",
            "Epoch 65/100\n",
            "38/38 [==============================] - 0s 5ms/step - loss: 1.5261e-04\n",
            "Epoch 66/100\n",
            "38/38 [==============================] - 0s 5ms/step - loss: 1.6316e-04\n",
            "Epoch 67/100\n",
            "38/38 [==============================] - 0s 5ms/step - loss: 1.4970e-04\n",
            "Epoch 68/100\n",
            "38/38 [==============================] - 0s 5ms/step - loss: 1.5138e-04\n",
            "Epoch 69/100\n",
            "38/38 [==============================] - 0s 6ms/step - loss: 1.5147e-04\n",
            "Epoch 70/100\n",
            "38/38 [==============================] - 0s 5ms/step - loss: 1.5198e-04\n",
            "Epoch 71/100\n",
            "38/38 [==============================] - 0s 5ms/step - loss: 1.4733e-04\n",
            "Epoch 72/100\n",
            "38/38 [==============================] - 0s 5ms/step - loss: 1.5255e-04\n",
            "Epoch 73/100\n",
            "38/38 [==============================] - 0s 5ms/step - loss: 1.4486e-04\n",
            "Epoch 74/100\n",
            "38/38 [==============================] - 0s 5ms/step - loss: 1.4759e-04\n",
            "Epoch 75/100\n",
            "38/38 [==============================] - 0s 5ms/step - loss: 1.3894e-04\n",
            "Epoch 76/100\n",
            "38/38 [==============================] - 0s 5ms/step - loss: 1.5638e-04\n",
            "Epoch 77/100\n",
            "38/38 [==============================] - 0s 5ms/step - loss: 1.8040e-04\n",
            "Epoch 78/100\n",
            "38/38 [==============================] - 0s 5ms/step - loss: 1.5816e-04\n",
            "Epoch 79/100\n",
            "38/38 [==============================] - 0s 6ms/step - loss: 1.9038e-04\n",
            "Epoch 80/100\n",
            "38/38 [==============================] - 0s 5ms/step - loss: 1.4271e-04\n",
            "Epoch 81/100\n",
            "38/38 [==============================] - 0s 6ms/step - loss: 1.3241e-04\n",
            "Epoch 82/100\n",
            "38/38 [==============================] - 0s 5ms/step - loss: 1.7112e-04\n",
            "Epoch 83/100\n",
            "38/38 [==============================] - 0s 5ms/step - loss: 1.6647e-04\n",
            "Epoch 84/100\n",
            "38/38 [==============================] - 0s 5ms/step - loss: 1.3901e-04\n",
            "Epoch 85/100\n",
            "38/38 [==============================] - 0s 5ms/step - loss: 1.3247e-04\n",
            "Epoch 86/100\n",
            "38/38 [==============================] - 0s 6ms/step - loss: 1.5815e-04\n",
            "Epoch 87/100\n",
            "38/38 [==============================] - 0s 5ms/step - loss: 1.3028e-04\n",
            "Epoch 88/100\n",
            "38/38 [==============================] - 0s 5ms/step - loss: 1.5507e-04\n",
            "Epoch 89/100\n",
            "38/38 [==============================] - 0s 5ms/step - loss: 1.4977e-04\n",
            "Epoch 90/100\n",
            "38/38 [==============================] - 0s 5ms/step - loss: 1.3153e-04\n",
            "Epoch 91/100\n",
            "38/38 [==============================] - 0s 5ms/step - loss: 1.4181e-04\n",
            "Epoch 92/100\n",
            "38/38 [==============================] - 0s 5ms/step - loss: 1.4071e-04\n",
            "Epoch 93/100\n",
            "38/38 [==============================] - 0s 6ms/step - loss: 1.4728e-04\n",
            "Epoch 94/100\n",
            "38/38 [==============================] - 0s 6ms/step - loss: 1.4124e-04\n",
            "Epoch 95/100\n",
            "38/38 [==============================] - 0s 5ms/step - loss: 1.4974e-04\n",
            "Epoch 96/100\n",
            "38/38 [==============================] - 0s 6ms/step - loss: 1.4616e-04\n",
            "Epoch 97/100\n",
            "38/38 [==============================] - 0s 5ms/step - loss: 1.4263e-04\n",
            "Epoch 98/100\n",
            "38/38 [==============================] - 0s 5ms/step - loss: 1.2418e-04\n",
            "Epoch 99/100\n",
            "38/38 [==============================] - 0s 5ms/step - loss: 1.2320e-04\n",
            "Epoch 100/100\n",
            "38/38 [==============================] - 0s 5ms/step - loss: 1.5401e-04\n"
          ],
          "name": "stdout"
        },
        {
          "output_type": "execute_result",
          "data": {
            "text/plain": [
              "<tensorflow.python.keras.callbacks.History at 0x7f09db0715f8>"
            ]
          },
          "metadata": {
            "tags": []
          },
          "execution_count": 180
        }
      ]
    },
    {
      "cell_type": "code",
      "metadata": {
        "id": "sLLERlBsNLDz",
        "colab_type": "code",
        "colab": {}
      },
      "source": [
        "### Lets Do the prediction and check performance metrics\n",
        "train_predict=model2.predict(X_train)\n",
        "test_predict=model2.predict(X_test)"
      ],
      "execution_count": null,
      "outputs": []
    },
    {
      "cell_type": "code",
      "metadata": {
        "id": "JjSVQorMPGdM",
        "colab_type": "code",
        "colab": {
          "base_uri": "https://localhost:8080/",
          "height": 34
        },
        "outputId": "1a3b781c-3204-4789-8121-d30fc4b70497"
      },
      "source": [
        "### Calculate MSE performance metrics\n",
        "import math\n",
        "from sklearn.metrics import mean_squared_error\n",
        "mean_squared_error(y_train,train_predict)"
      ],
      "execution_count": null,
      "outputs": [
        {
          "output_type": "execute_result",
          "data": {
            "text/plain": [
              "0.00011654126826497658"
            ]
          },
          "metadata": {
            "tags": []
          },
          "execution_count": 182
        }
      ]
    },
    {
      "cell_type": "code",
      "metadata": {
        "id": "AI23yCRRPM77",
        "colab_type": "code",
        "colab": {
          "base_uri": "https://localhost:8080/",
          "height": 34
        },
        "outputId": "79d26606-cb8a-4d9f-e716-164f9a41d45a"
      },
      "source": [
        "### Calculate MSE performance metrics\n",
        "import math\n",
        "from sklearn.metrics import mean_squared_error\n",
        "mse2 = mean_squared_error(y_test,test_predict)\n",
        "mse2"
      ],
      "execution_count": null,
      "outputs": [
        {
          "output_type": "execute_result",
          "data": {
            "text/plain": [
              "0.00015636029149544112"
            ]
          },
          "metadata": {
            "tags": []
          },
          "execution_count": 183
        }
      ]
    },
    {
      "cell_type": "code",
      "metadata": {
        "id": "4-xr7-MQRoPs",
        "colab_type": "code",
        "colab": {
          "base_uri": "https://localhost:8080/",
          "height": 34
        },
        "outputId": "5ed9ce3f-a3fe-4e03-f72f-bcaea96fbeee"
      },
      "source": [
        "### Calculate r2 performance metrics\n",
        "import math\n",
        "from sklearn.metrics import r2_score\n",
        "r2 = r2_score(y_test,test_predict)\n",
        "r2"
      ],
      "execution_count": null,
      "outputs": [
        {
          "output_type": "execute_result",
          "data": {
            "text/plain": [
              "0.9962161211991607"
            ]
          },
          "metadata": {
            "tags": []
          },
          "execution_count": 184
        }
      ]
    },
    {
      "cell_type": "code",
      "metadata": {
        "id": "EUMNwXZDbHpW",
        "colab_type": "code",
        "colab": {
          "base_uri": "https://localhost:8080/",
          "height": 106
        },
        "outputId": "7c5eb375-fce3-4661-a294-976d1a2f7a1c"
      },
      "source": [
        "df_model=pd.DataFrame({'Model_Applied':['GRU','LSTM'],'MSE':[mse1,mse2],'R2':[r1,r2]})\n",
        "df_model"
      ],
      "execution_count": null,
      "outputs": [
        {
          "output_type": "execute_result",
          "data": {
            "text/html": [
              "<div>\n",
              "<style scoped>\n",
              "    .dataframe tbody tr th:only-of-type {\n",
              "        vertical-align: middle;\n",
              "    }\n",
              "\n",
              "    .dataframe tbody tr th {\n",
              "        vertical-align: top;\n",
              "    }\n",
              "\n",
              "    .dataframe thead th {\n",
              "        text-align: right;\n",
              "    }\n",
              "</style>\n",
              "<table border=\"1\" class=\"dataframe\">\n",
              "  <thead>\n",
              "    <tr style=\"text-align: right;\">\n",
              "      <th></th>\n",
              "      <th>Model_Applied</th>\n",
              "      <th>MSE</th>\n",
              "      <th>R2</th>\n",
              "    </tr>\n",
              "  </thead>\n",
              "  <tbody>\n",
              "    <tr>\n",
              "      <th>0</th>\n",
              "      <td>GRU</td>\n",
              "      <td>0.000054</td>\n",
              "      <td>0.998699</td>\n",
              "    </tr>\n",
              "    <tr>\n",
              "      <th>1</th>\n",
              "      <td>LSTM</td>\n",
              "      <td>0.000156</td>\n",
              "      <td>0.996216</td>\n",
              "    </tr>\n",
              "  </tbody>\n",
              "</table>\n",
              "</div>"
            ],
            "text/plain": [
              "  Model_Applied       MSE        R2\n",
              "0           GRU  0.000054  0.998699\n",
              "1          LSTM  0.000156  0.996216"
            ]
          },
          "metadata": {
            "tags": []
          },
          "execution_count": 185
        }
      ]
    }
  ]
}